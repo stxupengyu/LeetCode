{
 "cells": [
  {
   "cell_type": "code",
   "execution_count": 243,
   "metadata": {},
   "outputs": [
    {
     "data": {
      "text/plain": [
       "['x', '=', 'x']"
      ]
     },
     "execution_count": 243,
     "metadata": {},
     "output_type": "execute_result"
    }
   ],
   "source": [
    "#def(a):\n",
    "a=\"x=x\"\n",
    "ls=[]\n",
    "num=0\n",
    "inte=['1','2','3','4','5','6','7','8','9']\n",
    "for i in a:\n",
    "    if(i not in inte):\n",
    "        ls=ls+[i]\n",
    "    if(i in inte):\n",
    "        ls=ls+[int(i)]\n",
    "    if(i=='='):\n",
    "        eq=num\n",
    "    num=num+1\n",
    "ls"
   ]
  },
  {
   "cell_type": "code",
   "execution_count": 244,
   "metadata": {},
   "outputs": [
    {
     "data": {
      "text/plain": [
       "['s', 'x', '']"
      ]
     },
     "execution_count": 244,
     "metadata": {},
     "output_type": "execute_result"
    }
   ],
   "source": [
    "left=ls[:eq]\n",
    "left=['s']+left+['']\n",
    "left"
   ]
  },
  {
   "cell_type": "code",
   "execution_count": 245,
   "metadata": {},
   "outputs": [],
   "source": [
    "left2=[]\n",
    "for i in range(len(left)):\n",
    "    if(type(left[i])==int):\n",
    "        if(left[i-1]=='+'):\n",
    "            left2=left2+[left[i]]\n",
    "        if(left[i-1]=='-'):\n",
    "            left2=left2+[-left[i]]\n",
    "        if(left[i-1]=='='):\n",
    "            left2=left2+[left[i]]\n",
    "        if(left[i-1]=='s'):\n",
    "            left2=left2+[left[i]]\n",
    "    if(left[i]=='='):\n",
    "        left2=left2+[left[i]]\n",
    "    if(left[i]=='x'):\n",
    "        left2=left2+[left[i]]        \n",
    "left2\n",
    "left=left2+['']"
   ]
  },
  {
   "cell_type": "code",
   "execution_count": 246,
   "metadata": {},
   "outputs": [
    {
     "data": {
      "text/plain": [
       "['x', '']"
      ]
     },
     "execution_count": 246,
     "metadata": {},
     "output_type": "execute_result"
    }
   ],
   "source": [
    "left"
   ]
  },
  {
   "cell_type": "code",
   "execution_count": 247,
   "metadata": {},
   "outputs": [],
   "source": [
    "left0=[]\n",
    "left1=[]\n",
    "for i in range(len(left)):\n",
    "    if(type(left[i])==int):\n",
    "        if(left[i+1]=='x'):\n",
    "            left1=left1+[left[i]]\n",
    "        if(left[i+1]!='x'):\n",
    "            left0=left0+[left[i]]\n",
    "    if(left[i]=='x'):\n",
    "        if(i==0):\n",
    "            left1=left1+[1]\n",
    "        else:\n",
    "            if(type(left[i-1])!=int):\n",
    "                left1=left1+[1]       "
   ]
  },
  {
   "cell_type": "code",
   "execution_count": 248,
   "metadata": {},
   "outputs": [
    {
     "data": {
      "text/plain": [
       "([], [1])"
      ]
     },
     "execution_count": 248,
     "metadata": {},
     "output_type": "execute_result"
    }
   ],
   "source": [
    "left0,left1"
   ]
  },
  {
   "cell_type": "code",
   "execution_count": 249,
   "metadata": {},
   "outputs": [
    {
     "data": {
      "text/plain": [
       "['s', 'x', '']"
      ]
     },
     "execution_count": 249,
     "metadata": {},
     "output_type": "execute_result"
    }
   ],
   "source": [
    "right=['s']+ls[eq+1:]+['']\n",
    "right"
   ]
  },
  {
   "cell_type": "code",
   "execution_count": 250,
   "metadata": {},
   "outputs": [],
   "source": [
    "right2=[]\n",
    "for i in range(len(right)):\n",
    "    if(type(right[i])==int):\n",
    "        if(right[i-1]=='+'):\n",
    "            right2=right2+[right[i]]\n",
    "        if(right[i-1]=='-'):\n",
    "            right2=right2+[-right[i]]\n",
    "        if(right[i-1]=='='):\n",
    "            right2=right2+[right[i]]\n",
    "        if(right[i-1]=='s'):\n",
    "            right2=right2+[right[i]]\n",
    "    if(right[i]=='='):\n",
    "        right2=right2+[right[i]]\n",
    "    if(right[i]=='x'):\n",
    "        right2=right2+[right[i]]        \n",
    "right2\n",
    "right=right2+['']\n"
   ]
  },
  {
   "cell_type": "code",
   "execution_count": 251,
   "metadata": {},
   "outputs": [
    {
     "data": {
      "text/plain": [
       "['x', '']"
      ]
     },
     "execution_count": 251,
     "metadata": {},
     "output_type": "execute_result"
    }
   ],
   "source": [
    "right"
   ]
  },
  {
   "cell_type": "code",
   "execution_count": 252,
   "metadata": {},
   "outputs": [],
   "source": [
    "right0=[]\n",
    "right1=[]\n",
    "for i in range(len(right)):\n",
    "    if(type(right[i])==int):\n",
    "        if(right[i+1]=='x'):\n",
    "            right1=right1+[right[i]]\n",
    "        if(right[i+1]!='x'):\n",
    "            right0=right0+[right[i]]\n",
    "    if(right[i]=='x'):\n",
    "        if(i==0):\n",
    "            right1=right1+[1]\n",
    "        else:\n",
    "            if(type(right[i-1])!=int):\n",
    "                right1=right1+[1]       \n"
   ]
  },
  {
   "cell_type": "code",
   "execution_count": 253,
   "metadata": {},
   "outputs": [
    {
     "data": {
      "text/plain": [
       "([], [1])"
      ]
     },
     "execution_count": 253,
     "metadata": {},
     "output_type": "execute_result"
    }
   ],
   "source": [
    "right0,right1"
   ]
  },
  {
   "cell_type": "code",
   "execution_count": 254,
   "metadata": {},
   "outputs": [
    {
     "data": {
      "text/plain": [
       "'Infinite solutions'"
      ]
     },
     "execution_count": 254,
     "metadata": {},
     "output_type": "execute_result"
    }
   ],
   "source": [
    "coef0=sum(left0)-sum(right0)\n",
    "coef1=sum(right1)-sum(left1)\n",
    "if(coef1==0):\n",
    "    if(coef0!=0):\n",
    "        result='No solution'\n",
    "    if(coef0==0):\n",
    "        result='Infinite solutions'\n",
    "else:\n",
    "    result='x='+str(int(coef0/coef1))\n",
    "result"
   ]
  },
  {
   "cell_type": "code",
   "execution_count": null,
   "metadata": {},
   "outputs": [],
   "source": []
  },
  {
   "cell_type": "code",
   "execution_count": 255,
   "metadata": {},
   "outputs": [],
   "source": [
    "def jiefangcheng(a):\n",
    "    ls=[]\n",
    "    num=0\n",
    "    inte=['1','2','3','4','5','6','7','8','9']\n",
    "    for i in a:\n",
    "        if(i not in inte):\n",
    "            ls=ls+[i]\n",
    "        if(i in inte):\n",
    "            ls=ls+[int(i)]\n",
    "        if(i=='='):\n",
    "            eq=num\n",
    "        num=num+1\n",
    "    left=ls[:eq]\n",
    "    left=['s']+left+['']\n",
    "    left2=[]\n",
    "    for i in range(len(left)):\n",
    "        if(type(left[i])==int):\n",
    "            if(left[i-1]=='+'):\n",
    "                left2=left2+[left[i]]\n",
    "            if(left[i-1]=='-'):\n",
    "                left2=left2+[-left[i]]\n",
    "            if(left[i-1]=='='):\n",
    "                left2=left2+[left[i]]\n",
    "            if(left[i-1]=='s'):\n",
    "                left2=left2+[left[i]]\n",
    "        if(left[i]=='='):\n",
    "            left2=left2+[left[i]]\n",
    "        if(left[i]=='x'):\n",
    "            left2=left2+[left[i]]        \n",
    "    left=left2+['']    \n",
    "    left0=[]\n",
    "    left1=[]\n",
    "    for i in range(len(left)):\n",
    "        if(type(left[i])==int):\n",
    "            if(left[i+1]=='x'):\n",
    "                left1=left1+[left[i]]\n",
    "            if(left[i+1]!='x'):\n",
    "                left0=left0+[left[i]]\n",
    "        if(left[i]=='x'):\n",
    "            if(i==0):\n",
    "                left1=left1+[1]\n",
    "            else:\n",
    "                if(type(left[i-1])!=int):\n",
    "                    left1=left1+[1]    \n",
    "    right=['s']+ls[eq+1:]+['']     \n",
    "    right2=[]\n",
    "    for i in range(len(right)):\n",
    "        if(type(right[i])==int):\n",
    "            if(right[i-1]=='+'):\n",
    "                right2=right2+[right[i]]\n",
    "            if(right[i-1]=='-'):\n",
    "                right2=right2+[-right[i]]\n",
    "            if(right[i-1]=='='):\n",
    "                right2=right2+[right[i]]\n",
    "            if(right[i-1]=='s'):\n",
    "                right2=right2+[right[i]]\n",
    "        if(right[i]=='='):\n",
    "            right2=right2+[right[i]]\n",
    "        if(right[i]=='x'):\n",
    "            right2=right2+[right[i]]        \n",
    "    right=right2+['']\n",
    "    right0=[]\n",
    "    right1=[]\n",
    "    for i in range(len(right)):\n",
    "        if(type(right[i])==int):\n",
    "            if(right[i+1]=='x'):\n",
    "                right1=right1+[right[i]]\n",
    "            if(right[i+1]!='x'):\n",
    "                right0=right0+[right[i]]\n",
    "        if(right[i]=='x'):\n",
    "            if(i==0):\n",
    "                right1=right1+[1]\n",
    "            else:\n",
    "                if(type(right[i-1])!=int):\n",
    "                    right1=right1+[1]       \n",
    "    coef0=sum(left0)-sum(right0)\n",
    "    coef1=sum(right1)-sum(left1)\n",
    "    if(coef1==0):\n",
    "        if(coef0!=0):\n",
    "            result='No solution'\n",
    "        if(coef0==0):\n",
    "            result='Infinite solutions'\n",
    "    else:\n",
    "        result='x='+str(int(coef0/coef1))\n",
    "    return result"
   ]
  },
  {
   "cell_type": "code",
   "execution_count": 258,
   "metadata": {},
   "outputs": [
    {
     "data": {
      "text/plain": [
       "'No solution'"
      ]
     },
     "execution_count": 258,
     "metadata": {},
     "output_type": "execute_result"
    }
   ],
   "source": [
    "jiefangcheng('x+x+x+x=4x+1')"
   ]
  },
  {
   "cell_type": "code",
   "execution_count": 259,
   "metadata": {},
   "outputs": [
    {
     "data": {
      "text/plain": [
       "'Infinite solutions'"
      ]
     },
     "execution_count": 259,
     "metadata": {},
     "output_type": "execute_result"
    }
   ],
   "source": [
    "jiefangcheng('x+x+x+x=4x')"
   ]
  },
  {
   "cell_type": "code",
   "execution_count": 260,
   "metadata": {},
   "outputs": [
    {
     "data": {
      "text/plain": [
       "'x=0'"
      ]
     },
     "execution_count": 260,
     "metadata": {},
     "output_type": "execute_result"
    }
   ],
   "source": [
    "jiefangcheng('x+x+x=4x')"
   ]
  },
  {
   "cell_type": "code",
   "execution_count": null,
   "metadata": {},
   "outputs": [],
   "source": []
  }
 ],
 "metadata": {
  "kernelspec": {
   "display_name": "Python 3",
   "language": "python",
   "name": "python3"
  },
  "language_info": {
   "codemirror_mode": {
    "name": "ipython",
    "version": 3
   },
   "file_extension": ".py",
   "mimetype": "text/x-python",
   "name": "python",
   "nbconvert_exporter": "python",
   "pygments_lexer": "ipython3",
   "version": "3.5.5"
  }
 },
 "nbformat": 4,
 "nbformat_minor": 2
}
